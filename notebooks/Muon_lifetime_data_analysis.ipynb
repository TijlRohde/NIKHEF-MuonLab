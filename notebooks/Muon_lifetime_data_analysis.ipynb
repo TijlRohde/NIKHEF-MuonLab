{
  "cells": [
    {
      "cell_type": "markdown",
      "metadata": {
        "id": "dxdYBLXNQe6V"
      },
      "source": [
        "# **Analysis of Muon lifetime data**\n",
        "With this interactive notebook you can analyse the lifetime data you collected with the MuonLab III detector to find the lifetime, or characteristic time, of muons. Before you start, **upload your file to CoLab by clicking the folder on the left side of the screen, and then the file with an arrow pointing up.** The notebook is based on the programming language Python. The notebook consists of the following steps:\n",
        "\n",
        "1. Read your data file and sort it on duration\n",
        "\n",
        "2. Visualise your data by plotting it as a histogram\n",
        "\n",
        "3. \"Fit\" your data to an exponential function to determine muon lifetime: $f(t) = Ae^{-Bt} + C$\n",
        "\n",
        "\n",
        "**All steps** have **two exercises**, most of which are done by changing the code below the exercises. To execute a code cell, press **shift + enter** at the same time."
      ]
    },
    {
      "cell_type": "markdown",
      "metadata": {
        "id": "16VBYCFwQe6Z"
      },
      "source": [
        "## **1. Reading data**\n",
        "When you conducted your experiment(s), you might have noticed that your data was being saved in a single file ending in \".csv\", standing for \"comma-separated values\". This file saves data of all experiments possible with the MuonLab in their own column. You can open this file and view your data using a Python library called **pandas**. This library also allows you to perform operations on your data, like sorting it.\n",
        "\n",
        "\n",
        "### **Exercises**\n",
        "> **1.1** Start by having the notebook import your data file. Do this by changing the variable \"filename\" in the code cell below to the name of your file. Make sure to add \".csv\" at the end! If you entered the correct name, by running the code cell you should see the first 5 measured lifetimes appear on the screen.\n",
        "\n",
        "\n",
        "\n",
        "\n",
        "\n"
      ]
    },
    {
      "cell_type": "code",
      "source": [
        "# import pandas library\n",
        "import pandas as pd\n",
        "\n",
        "\n",
        "\n",
        "### EX. 1.1 ###\n",
        "filename = \"HIER_JOUW_DATA.csv\"\n",
        "######\n",
        "\n",
        "\n",
        "\n",
        "dataframe_lifetimes = pd.DataFrame()\n",
        "\n",
        "try:\n",
        "  # read your data file\n",
        "  dataframe_total = pd.read_csv(filename)\n",
        "\n",
        "  # select the lifetime data\n",
        "  dataframe_lifetimes['Lifetimes (ns)'] = dataframe_total['Lifetimes (ns)']\n",
        "  dataframe_lifetimes.dropna(inplace=True)\n",
        "\n",
        "except:\n",
        "  print(\"Wrong name entered. No file has been uploaded with the name: {}\".format(filename))\n",
        "  pass\n",
        "\n",
        "# show the lifetime data on screen if the filename was entered correctly\n",
        "dataframe_lifetimes.head()"
      ],
      "metadata": {
        "colab": {
          "base_uri": "https://localhost:8080/",
          "height": 206
        },
        "id": "Wzr4ChtRRbkn",
        "outputId": "c7743304-c035-4673-c57f-135dfbd61b1e"
      },
      "execution_count": 2,
      "outputs": [
        {
          "output_type": "execute_result",
          "data": {
            "text/plain": [
              "   Lifetimes (ns)\n",
              "0          4610.0\n",
              "1           330.0\n",
              "2           360.0\n",
              "3          2350.0\n",
              "4           400.0"
            ],
            "text/html": [
              "\n",
              "  <div id=\"df-9aecb61d-c4d9-4021-83cf-ac0cb1a6b356\">\n",
              "    <div class=\"colab-df-container\">\n",
              "      <div>\n",
              "<style scoped>\n",
              "    .dataframe tbody tr th:only-of-type {\n",
              "        vertical-align: middle;\n",
              "    }\n",
              "\n",
              "    .dataframe tbody tr th {\n",
              "        vertical-align: top;\n",
              "    }\n",
              "\n",
              "    .dataframe thead th {\n",
              "        text-align: right;\n",
              "    }\n",
              "</style>\n",
              "<table border=\"1\" class=\"dataframe\">\n",
              "  <thead>\n",
              "    <tr style=\"text-align: right;\">\n",
              "      <th></th>\n",
              "      <th>Lifetimes (ns)</th>\n",
              "    </tr>\n",
              "  </thead>\n",
              "  <tbody>\n",
              "    <tr>\n",
              "      <th>0</th>\n",
              "      <td>4610.0</td>\n",
              "    </tr>\n",
              "    <tr>\n",
              "      <th>1</th>\n",
              "      <td>330.0</td>\n",
              "    </tr>\n",
              "    <tr>\n",
              "      <th>2</th>\n",
              "      <td>360.0</td>\n",
              "    </tr>\n",
              "    <tr>\n",
              "      <th>3</th>\n",
              "      <td>2350.0</td>\n",
              "    </tr>\n",
              "    <tr>\n",
              "      <th>4</th>\n",
              "      <td>400.0</td>\n",
              "    </tr>\n",
              "  </tbody>\n",
              "</table>\n",
              "</div>\n",
              "      <button class=\"colab-df-convert\" onclick=\"convertToInteractive('df-9aecb61d-c4d9-4021-83cf-ac0cb1a6b356')\"\n",
              "              title=\"Convert this dataframe to an interactive table.\"\n",
              "              style=\"display:none;\">\n",
              "        \n",
              "  <svg xmlns=\"http://www.w3.org/2000/svg\" height=\"24px\"viewBox=\"0 0 24 24\"\n",
              "       width=\"24px\">\n",
              "    <path d=\"M0 0h24v24H0V0z\" fill=\"none\"/>\n",
              "    <path d=\"M18.56 5.44l.94 2.06.94-2.06 2.06-.94-2.06-.94-.94-2.06-.94 2.06-2.06.94zm-11 1L8.5 8.5l.94-2.06 2.06-.94-2.06-.94L8.5 2.5l-.94 2.06-2.06.94zm10 10l.94 2.06.94-2.06 2.06-.94-2.06-.94-.94-2.06-.94 2.06-2.06.94z\"/><path d=\"M17.41 7.96l-1.37-1.37c-.4-.4-.92-.59-1.43-.59-.52 0-1.04.2-1.43.59L10.3 9.45l-7.72 7.72c-.78.78-.78 2.05 0 2.83L4 21.41c.39.39.9.59 1.41.59.51 0 1.02-.2 1.41-.59l7.78-7.78 2.81-2.81c.8-.78.8-2.07 0-2.86zM5.41 20L4 18.59l7.72-7.72 1.47 1.35L5.41 20z\"/>\n",
              "  </svg>\n",
              "      </button>\n",
              "      \n",
              "  <style>\n",
              "    .colab-df-container {\n",
              "      display:flex;\n",
              "      flex-wrap:wrap;\n",
              "      gap: 12px;\n",
              "    }\n",
              "\n",
              "    .colab-df-convert {\n",
              "      background-color: #E8F0FE;\n",
              "      border: none;\n",
              "      border-radius: 50%;\n",
              "      cursor: pointer;\n",
              "      display: none;\n",
              "      fill: #1967D2;\n",
              "      height: 32px;\n",
              "      padding: 0 0 0 0;\n",
              "      width: 32px;\n",
              "    }\n",
              "\n",
              "    .colab-df-convert:hover {\n",
              "      background-color: #E2EBFA;\n",
              "      box-shadow: 0px 1px 2px rgba(60, 64, 67, 0.3), 0px 1px 3px 1px rgba(60, 64, 67, 0.15);\n",
              "      fill: #174EA6;\n",
              "    }\n",
              "\n",
              "    [theme=dark] .colab-df-convert {\n",
              "      background-color: #3B4455;\n",
              "      fill: #D2E3FC;\n",
              "    }\n",
              "\n",
              "    [theme=dark] .colab-df-convert:hover {\n",
              "      background-color: #434B5C;\n",
              "      box-shadow: 0px 1px 3px 1px rgba(0, 0, 0, 0.15);\n",
              "      filter: drop-shadow(0px 1px 2px rgba(0, 0, 0, 0.3));\n",
              "      fill: #FFFFFF;\n",
              "    }\n",
              "  </style>\n",
              "\n",
              "      <script>\n",
              "        const buttonEl =\n",
              "          document.querySelector('#df-9aecb61d-c4d9-4021-83cf-ac0cb1a6b356 button.colab-df-convert');\n",
              "        buttonEl.style.display =\n",
              "          google.colab.kernel.accessAllowed ? 'block' : 'none';\n",
              "\n",
              "        async function convertToInteractive(key) {\n",
              "          const element = document.querySelector('#df-9aecb61d-c4d9-4021-83cf-ac0cb1a6b356');\n",
              "          const dataTable =\n",
              "            await google.colab.kernel.invokeFunction('convertToInteractive',\n",
              "                                                     [key], {});\n",
              "          if (!dataTable) return;\n",
              "\n",
              "          const docLinkHtml = 'Like what you see? Visit the ' +\n",
              "            '<a target=\"_blank\" href=https://colab.research.google.com/notebooks/data_table.ipynb>data table notebook</a>'\n",
              "            + ' to learn more about interactive tables.';\n",
              "          element.innerHTML = '';\n",
              "          dataTable['output_type'] = 'display_data';\n",
              "          await google.colab.output.renderOutput(dataTable, element);\n",
              "          const docLink = document.createElement('div');\n",
              "          docLink.innerHTML = docLinkHtml;\n",
              "          element.appendChild(docLink);\n",
              "        }\n",
              "      </script>\n",
              "    </div>\n",
              "  </div>\n",
              "  "
            ]
          },
          "metadata": {},
          "execution_count": 2
        }
      ]
    },
    {
      "cell_type": "markdown",
      "metadata": {
        "id": "ZAxElkWIQe6b"
      },
      "source": [
        "\n",
        "\n",
        "> **1.2** Now that your lifetime data has been loaded, you can sort the lifetimes by their length. Do this by running the code cell below, which executes the \"sort_values\" command. You can now view the sorted measurement data to find the **shortest time**, the **second shortest time**, the **longest time**, and the **duration of a single time step of the MuonLab**. Fill these in in the code cell below."
      ]
    },
    {
      "cell_type": "code",
      "source": [
        "# sort the lifetime data from short to long\n",
        "dataframe_lifetimes.sort_values(by=['Lifetimes (ns)'], inplace=True)\n",
        "\n",
        "# show the sorted data on screen\n",
        "dataframe_lifetimes"
      ],
      "metadata": {
        "colab": {
          "base_uri": "https://localhost:8080/",
          "height": 424
        },
        "id": "VAUjQEwfedy8",
        "outputId": "bfae9f73-9ceb-4be6-ad7a-9904dd9f10e3"
      },
      "execution_count": 3,
      "outputs": [
        {
          "output_type": "execute_result",
          "data": {
            "text/plain": [
              "     Lifetimes (ns)\n",
              "265           110.0\n",
              "131           120.0\n",
              "263           120.0\n",
              "14            150.0\n",
              "257           150.0\n",
              "..              ...\n",
              "86          19390.0\n",
              "236         19410.0\n",
              "305         19410.0\n",
              "419         19940.0\n",
              "363         19940.0\n",
              "\n",
              "[444 rows x 1 columns]"
            ],
            "text/html": [
              "\n",
              "  <div id=\"df-9509cd16-61b8-4999-9985-f3ca42780aa0\">\n",
              "    <div class=\"colab-df-container\">\n",
              "      <div>\n",
              "<style scoped>\n",
              "    .dataframe tbody tr th:only-of-type {\n",
              "        vertical-align: middle;\n",
              "    }\n",
              "\n",
              "    .dataframe tbody tr th {\n",
              "        vertical-align: top;\n",
              "    }\n",
              "\n",
              "    .dataframe thead th {\n",
              "        text-align: right;\n",
              "    }\n",
              "</style>\n",
              "<table border=\"1\" class=\"dataframe\">\n",
              "  <thead>\n",
              "    <tr style=\"text-align: right;\">\n",
              "      <th></th>\n",
              "      <th>Lifetimes (ns)</th>\n",
              "    </tr>\n",
              "  </thead>\n",
              "  <tbody>\n",
              "    <tr>\n",
              "      <th>265</th>\n",
              "      <td>110.0</td>\n",
              "    </tr>\n",
              "    <tr>\n",
              "      <th>131</th>\n",
              "      <td>120.0</td>\n",
              "    </tr>\n",
              "    <tr>\n",
              "      <th>263</th>\n",
              "      <td>120.0</td>\n",
              "    </tr>\n",
              "    <tr>\n",
              "      <th>14</th>\n",
              "      <td>150.0</td>\n",
              "    </tr>\n",
              "    <tr>\n",
              "      <th>257</th>\n",
              "      <td>150.0</td>\n",
              "    </tr>\n",
              "    <tr>\n",
              "      <th>...</th>\n",
              "      <td>...</td>\n",
              "    </tr>\n",
              "    <tr>\n",
              "      <th>86</th>\n",
              "      <td>19390.0</td>\n",
              "    </tr>\n",
              "    <tr>\n",
              "      <th>236</th>\n",
              "      <td>19410.0</td>\n",
              "    </tr>\n",
              "    <tr>\n",
              "      <th>305</th>\n",
              "      <td>19410.0</td>\n",
              "    </tr>\n",
              "    <tr>\n",
              "      <th>419</th>\n",
              "      <td>19940.0</td>\n",
              "    </tr>\n",
              "    <tr>\n",
              "      <th>363</th>\n",
              "      <td>19940.0</td>\n",
              "    </tr>\n",
              "  </tbody>\n",
              "</table>\n",
              "<p>444 rows × 1 columns</p>\n",
              "</div>\n",
              "      <button class=\"colab-df-convert\" onclick=\"convertToInteractive('df-9509cd16-61b8-4999-9985-f3ca42780aa0')\"\n",
              "              title=\"Convert this dataframe to an interactive table.\"\n",
              "              style=\"display:none;\">\n",
              "        \n",
              "  <svg xmlns=\"http://www.w3.org/2000/svg\" height=\"24px\"viewBox=\"0 0 24 24\"\n",
              "       width=\"24px\">\n",
              "    <path d=\"M0 0h24v24H0V0z\" fill=\"none\"/>\n",
              "    <path d=\"M18.56 5.44l.94 2.06.94-2.06 2.06-.94-2.06-.94-.94-2.06-.94 2.06-2.06.94zm-11 1L8.5 8.5l.94-2.06 2.06-.94-2.06-.94L8.5 2.5l-.94 2.06-2.06.94zm10 10l.94 2.06.94-2.06 2.06-.94-2.06-.94-.94-2.06-.94 2.06-2.06.94z\"/><path d=\"M17.41 7.96l-1.37-1.37c-.4-.4-.92-.59-1.43-.59-.52 0-1.04.2-1.43.59L10.3 9.45l-7.72 7.72c-.78.78-.78 2.05 0 2.83L4 21.41c.39.39.9.59 1.41.59.51 0 1.02-.2 1.41-.59l7.78-7.78 2.81-2.81c.8-.78.8-2.07 0-2.86zM5.41 20L4 18.59l7.72-7.72 1.47 1.35L5.41 20z\"/>\n",
              "  </svg>\n",
              "      </button>\n",
              "      \n",
              "  <style>\n",
              "    .colab-df-container {\n",
              "      display:flex;\n",
              "      flex-wrap:wrap;\n",
              "      gap: 12px;\n",
              "    }\n",
              "\n",
              "    .colab-df-convert {\n",
              "      background-color: #E8F0FE;\n",
              "      border: none;\n",
              "      border-radius: 50%;\n",
              "      cursor: pointer;\n",
              "      display: none;\n",
              "      fill: #1967D2;\n",
              "      height: 32px;\n",
              "      padding: 0 0 0 0;\n",
              "      width: 32px;\n",
              "    }\n",
              "\n",
              "    .colab-df-convert:hover {\n",
              "      background-color: #E2EBFA;\n",
              "      box-shadow: 0px 1px 2px rgba(60, 64, 67, 0.3), 0px 1px 3px 1px rgba(60, 64, 67, 0.15);\n",
              "      fill: #174EA6;\n",
              "    }\n",
              "\n",
              "    [theme=dark] .colab-df-convert {\n",
              "      background-color: #3B4455;\n",
              "      fill: #D2E3FC;\n",
              "    }\n",
              "\n",
              "    [theme=dark] .colab-df-convert:hover {\n",
              "      background-color: #434B5C;\n",
              "      box-shadow: 0px 1px 3px 1px rgba(0, 0, 0, 0.15);\n",
              "      filter: drop-shadow(0px 1px 2px rgba(0, 0, 0, 0.3));\n",
              "      fill: #FFFFFF;\n",
              "    }\n",
              "  </style>\n",
              "\n",
              "      <script>\n",
              "        const buttonEl =\n",
              "          document.querySelector('#df-9509cd16-61b8-4999-9985-f3ca42780aa0 button.colab-df-convert');\n",
              "        buttonEl.style.display =\n",
              "          google.colab.kernel.accessAllowed ? 'block' : 'none';\n",
              "\n",
              "        async function convertToInteractive(key) {\n",
              "          const element = document.querySelector('#df-9509cd16-61b8-4999-9985-f3ca42780aa0');\n",
              "          const dataTable =\n",
              "            await google.colab.kernel.invokeFunction('convertToInteractive',\n",
              "                                                     [key], {});\n",
              "          if (!dataTable) return;\n",
              "\n",
              "          const docLinkHtml = 'Like what you see? Visit the ' +\n",
              "            '<a target=\"_blank\" href=https://colab.research.google.com/notebooks/data_table.ipynb>data table notebook</a>'\n",
              "            + ' to learn more about interactive tables.';\n",
              "          element.innerHTML = '';\n",
              "          dataTable['output_type'] = 'display_data';\n",
              "          await google.colab.output.renderOutput(dataTable, element);\n",
              "          const docLink = document.createElement('div');\n",
              "          docLink.innerHTML = docLinkHtml;\n",
              "          element.appendChild(docLink);\n",
              "        }\n",
              "      </script>\n",
              "    </div>\n",
              "  </div>\n",
              "  "
            ]
          },
          "metadata": {},
          "execution_count": 3
        }
      ]
    },
    {
      "cell_type": "code",
      "source": [
        "### EX. 1.2 ###\n",
        "shortest_time = 0 # CHANGE THE VALUE\n",
        "second_shortest_time = 0 # CHANGE THE VALUE\n",
        "longest_time = 0 # CHANGE THE VALUE\n",
        "duration_of_timestep = 0 # CHANGE THE VALUE\n",
        "######\n",
        "\n",
        "\n",
        "\n",
        "# display the values you found on the screen\n",
        "if shortest_time != 0:\n",
        "  print(f\"The shortest lifetime measured was: {shortest_time} ns.\")\n",
        "  print(f\"The second shortest lifetime measured was: {second_shortest_time} ns.\")\n",
        "  print(f\"The longest lifetime measured was: {longest_time} ns.\")\n",
        "  print(f\"The duration of a single timestep was: {duration_of_timestep} ns.\")\n",
        "  \n",
        "else:\n",
        "  print(\"CHANGE THE VALUES IN THIS CODE CELL FROM 0 TO THE TIMES YOU FOUND IN THE DATA\")\n"
      ],
      "metadata": {
        "colab": {
          "base_uri": "https://localhost:8080/"
        },
        "id": "MBizeTUUe6XN",
        "outputId": "685cb730-22d4-434a-a6dc-6c20780e15b0"
      },
      "execution_count": 4,
      "outputs": [
        {
          "output_type": "stream",
          "name": "stdout",
          "text": [
            "CHANGE THE VALUES IN THIS CODE CELL FROM 0 TO THE TIMES YOU FOUND IN THE DATA\n"
          ]
        }
      ]
    },
    {
      "cell_type": "markdown",
      "source": [
        "## **2. Plotting your data as a histogram**\n",
        "Seeing your data in its \"raw\" form doesn't tell you much about the way it is structured. To see how often each time interval was measured, you have to visualise your data by plotting it. You will be plotting a bar chart, also known as a histogram. This type of plot has some important settings that you can adjust; **amount of bins**, **lower limit of the x-axis** and **upper limit of the x-axis**.\n",
        " \n",
        "\n",
        "\n",
        "*   The amount of bins represents the amount of intervals the program will divide your data in.\n",
        "*   The lower and upper limit of the x-axis set which possible x-values you want to display in your plot (only the values between the lower and upper limit are displayed).\n",
        "\n",
        "### **Exercises**\n",
        "\n",
        "\n",
        "> **2.1** In the code cell below, change the values **bins, lower_limit_x** and **upper_limit** until you get a good visualisation of your data. You should see a similar distribution as in the program you used to do the measurements. (hints: for the bins, think about the amount of bins you used in the measurement program. for the x-axis limits, think about your answers to exercise **1.2**.\n",
        "\n",
        "\n",
        "\n",
        "\n"
      ],
      "metadata": {
        "id": "bGfSeu05j111"
      }
    },
    {
      "cell_type": "code",
      "source": [
        "# import plotting library\n",
        "import matplotlib.pyplot as plt\n",
        "\n",
        "\n",
        "\n",
        "### EX. 2.1 ###\n",
        "bins = 2 # CHANGE THE VALUE\n",
        "lower_limit_x = -10000\n",
        "upper_limit_x = 10000\n",
        "######\n",
        "\n",
        "\n",
        "\n",
        "# plot your data in a histogram\n",
        "dataframe_lifetimes.hist(bins=bins, \n",
        "                         figsize=([14,10]), \n",
        "                         linewidth=1, \n",
        "                         edgecolor='black', \n",
        "                         color=[230 / 255, 25 / 255, 61 / 255],\n",
        "                        )\n",
        "plt.xlim(lower_limit_x, upper_limit_x)\n",
        "plt.xlabel(\"Nanoseconds\")\n",
        "plt.ylabel(\"Counts\")"
      ],
      "metadata": {
        "colab": {
          "base_uri": "https://localhost:8080/",
          "height": 481
        },
        "id": "3YvO-XMLlJGP",
        "outputId": "08654094-99cf-4480-fde3-37caeb9268c3"
      },
      "execution_count": 7,
      "outputs": [
        {
          "output_type": "execute_result",
          "data": {
            "text/plain": [
              "Text(0, 0.5, 'Counts')"
            ]
          },
          "metadata": {},
          "execution_count": 7
        },
        {
          "output_type": "display_data",
          "data": {
            "text/plain": [
              "<Figure size 1008x720 with 1 Axes>"
            ],
            "image/png": "[encoded data removed]"
          },
          "metadata": {
            "needs_background": "light"
          }
        }
      ]
    },
    {
      "cell_type": "markdown",
      "source": [
        "\n",
        "\n",
        "> **2.2** As mentioned in the introduction, the data you took could follow a function of the form $f(t) = Ae^{-Bt} + C$, also known as an **exponential distribution**. Sketch the shape of the graph of this function on paper. Note what attributes of your sketch the function parameters $A$, $B$ and $C$ represent. You can also look at the shape of the plot you made in exercise **2.1**.\n",
        "\n",
        "\n",
        "> 1.   **Parameter** $A$: *type your answer here*\n",
        "\n",
        "> 2.   **Parameter** $B$: *type your answer here*\n",
        "\n",
        "> 3.   **Parameter** $C$: *type your answer here*\n",
        "\n",
        "\n"
      ],
      "metadata": {
        "id": "8s5yoQhlsLnD"
      }
    },
    {
      "cell_type": "markdown",
      "source": [
        "## **3. Fitting your data to an exponential function**\n",
        "Having visualised your data in a histogram and having sketched an exponential distribution, you might have observed that the shape of your data seems to match that of an exponential distribution. This means that the duration of the process you measured, namely the decay of muons, could be described with the previously seen function $f(t) = Ae^{-Bt} + C$. When applied to muon lifetime, this function takes the form $N(t) = N_0 e^{-\\lambda t}$. Here $N_0$ is the amount of particles at $t=0$, $\\lambda$ is the decay constant and $C = 0$. You can use another Python package called **lmfit** to find the parameters $N_0$ and $\\lambda$ that make the exponential function fit your data best. Using the optimal values of these parameters you can then find the lifetime of a muon.\n",
        "\n",
        "### **Exercises**\n",
        "\n",
        "> **3.1** Run the following two code cells. The first cell temporarily installs the **lmfit**-module (this might take a second). The second cell first prints the results of the fitting procedure, and then plots your data and a line corresponding to the exponential function with the optimal parameter values it found for $N_0$ and $\\lambda$. Check if you think the line aligns well with your data, and if it does, note the values found for $N_0$ and $\\lambda$.\n",
        "(**note:** the data the fit function uses **depends on the amount of bins you chose in exercise 2.1**. If your fit line doesn't align well with your data, make sure you are using a **correct amount of bins!**)\n",
        "\n",
        "> 1.   **Value found for** $N_0$: *type your answer here*\n",
        "\n",
        "> 2.   **Value found for** $\\lambda$: *type your answer here*\n"
      ],
      "metadata": {
        "id": "Sz5LNf-ZtiIS"
      }
    },
    {
      "cell_type": "code",
      "source": [
        "# install the module (this might take a few seconds)\n",
        "!pip install lmfit\n",
        "from lmfit import models\n",
        "import numpy as np"
      ],
      "metadata": {
        "colab": {
          "base_uri": "https://localhost:8080/"
        },
        "id": "mGgQdZ_xlNHk",
        "outputId": "8c802060-572f-4da7-fbf3-883e65972bc5"
      },
      "execution_count": 8,
      "outputs": [
        {
          "output_type": "stream",
          "name": "stdout",
          "text": [
            "Looking in indexes: https://pypi.org/simple, https://us-python.pkg.dev/colab-wheels/public/simple/\n",
            "Collecting lmfit\n",
            "  Downloading lmfit-1.0.3.tar.gz (292 kB)\n",
            "\u001b[K     |████████████████████████████████| 292 kB 4.3 MB/s \n",
            "\u001b[?25hCollecting asteval>=0.9.22\n",
            "  Downloading asteval-0.9.27-py3-none-any.whl (17 kB)\n",
            "Requirement already satisfied: numpy>=1.18 in /usr/local/lib/python3.7/dist-packages (from lmfit) (1.21.6)\n",
            "Requirement already satisfied: scipy>=1.4 in /usr/local/lib/python3.7/dist-packages (from lmfit) (1.7.3)\n",
            "Collecting uncertainties>=3.0.1\n",
            "  Downloading uncertainties-3.1.7-py2.py3-none-any.whl (98 kB)\n",
            "\u001b[K     |████████████████████████████████| 98 kB 6.3 MB/s \n",
            "\u001b[?25hRequirement already satisfied: importlib-metadata in /usr/local/lib/python3.7/dist-packages (from asteval>=0.9.22->lmfit) (4.12.0)\n",
            "Requirement already satisfied: future in /usr/local/lib/python3.7/dist-packages (from uncertainties>=3.0.1->lmfit) (0.16.0)\n",
            "Requirement already satisfied: zipp>=0.5 in /usr/local/lib/python3.7/dist-packages (from importlib-metadata->asteval>=0.9.22->lmfit) (3.8.0)\n",
            "Requirement already satisfied: typing-extensions>=3.6.4 in /usr/local/lib/python3.7/dist-packages (from importlib-metadata->asteval>=0.9.22->lmfit) (4.1.1)\n",
            "Building wheels for collected packages: lmfit\n",
            "  Building wheel for lmfit (setup.py) ... \u001b[?25l\u001b[?25hdone\n",
            "  Created wheel for lmfit: filename=lmfit-1.0.3-py3-none-any.whl size=84413 sha256=00af57cc6f7cdb4780873054284e421560d362ff99e83a072971a36a5fc39e4a\n",
            "  Stored in directory: /root/.cache/pip/wheels/b9/7a/d1/236aa0f8196b264fda481a112f7cfb1bfde7bfb20235f8e331\n",
            "Successfully built lmfit\n",
            "Installing collected packages: uncertainties, asteval, lmfit\n",
            "Successfully installed asteval-0.9.27 lmfit-1.0.3 uncertainties-3.1.7\n"
          ]
        }
      ]
    },
    {
      "cell_type": "code",
      "source": [
        "# turn data into histogram data\n",
        "y_data, bin_edges = np.histogram(dataframe_lifetimes['Lifetimes (ns)'], bins=bins)\n",
        "t_data = bin_edges[1:] - (bin_edges[1] - bin_edges[0]) / 2\n",
        "\n",
        "# create model function: an exponential model + a constant C\n",
        "f = lambda t, N_0, l: N_0 * np.exp(-l * t)\n",
        "model = models.Model(f, name='Exponential model')\n",
        "\n",
        "# fit your model: find the optimal values for A, B and C\n",
        "fit = model.fit(y_data, t=t_data, N_0=10, l=1e-4)\n",
        "\n",
        "# plot and display the results of your fit\n",
        "fit.plot()\n",
        "fit"
      ],
      "metadata": {
        "colab": {
          "base_uri": "https://localhost:8080/",
          "height": 874
        },
        "id": "Eduq-0Ou3YL9",
        "outputId": "181d4992-b757-432d-abc2-9a029474cc25"
      },
      "execution_count": 9,
      "outputs": [
        {
          "output_type": "execute_result",
          "data": {
            "text/plain": [
              "<lmfit.model.ModelResult at 0x7f2ff32d2bd0>"
            ],
            "text/html": [
              "<h2> Model</h2> Model(Exponential model) <h2>Fit Statistics</h2><table><tr><td>fitting method</td><td>leastsq</td><td></td></tr><tr><td># function evals</td><td>42</td><td></td></tr><tr><td># data points</td><td>20</td><td></td></tr><tr><td># variables</td><td>2</td><td></td></tr><tr><td>chi-square</td><td> 878.181140</td><td></td></tr><tr><td>reduced chi-square</td><td> 48.7878411</td><td></td></tr><tr><td>Akaike info crit.</td><td> 79.6424122</td><td></td></tr><tr><td>Bayesian info crit.</td><td> 81.6338767</td><td></td></tr></table><h2>Variables</h2><table><tr><th> name </th><th> value </th><th> standard error </th><th> relative error </th><th> initial value </th><th> min </th><th> max </th><th> vary </th></tr><tr><td> N_0 </td><td>  320.056714 </td><td>  17.4074389 </td><td> (5.44%) </td><td> 10 </td><td>        -inf </td><td>         inf </td><td> True </td></tr><tr><td> l </td><td>  7.5819e-04 </td><td>  5.0668e-05 </td><td> (6.68%) </td><td> 0.0001 </td><td>        -inf </td><td>         inf </td><td> True </td></tr></table><h2>Correlations (unreported correlations are < 0.100)</h2><table><tr><td>N_0</td><td>l</td><td>0.8284</td></tr></table>"
            ]
          },
          "metadata": {},
          "execution_count": 9
        },
        {
          "output_type": "display_data",
          "data": {
            "text/plain": [
              "<Figure size 432x432 with 2 Axes>"
            ],
            "image/png": "[encoded data removed]"
          },
          "metadata": {
            "needs_background": "light"
          }
        }
      ]
    },
    {
      "cell_type": "markdown",
      "source": [
        "> **3.2** As you have shown, your data can be described using the function $N(t) = N_0 e^{-\\lambda t}$, where $\\lambda$ is the **decay constant**. However, this same function can also be rewritten as $N(t) = N_0 e^{- t / \\tau}$, where $\\tau$ is the **characteristic time**. Using this information and the optimal value of $\\lambda$ you found with your fit function, find $\\tau$. \n",
        "\n",
        "> 1. **Value found for** $\\tau$: *type your answer here*"
      ],
      "metadata": {
        "id": "8vyHPaYlEDLQ"
      }
    },
    {
      "cell_type": "markdown",
      "source": [
        "Congratulations! you have now found the decay time of muon particles using your own data."
      ],
      "metadata": {
        "id": "_NdQUl95FXLs"
      }
    }
  ],
  "metadata": {
    "language_info": {
      "name": "python"
    },
    "orig_nbformat": 4,
    "colab": {
      "name": "Muon_lifetime_data_analysis.ipynb",
      "provenance": []
    },
    "kernelspec": {
      "name": "python3",
      "display_name": "Python 3"
    },
    "gpuClass": "standard"
  },
  "nbformat": 4,
  "nbformat_minor": 0
}